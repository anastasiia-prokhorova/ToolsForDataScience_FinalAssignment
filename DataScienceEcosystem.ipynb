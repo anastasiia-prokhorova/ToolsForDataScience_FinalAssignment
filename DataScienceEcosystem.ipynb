{
  "metadata": {
    "kernelspec": {
      "name": "python",
      "display_name": "Python (Pyodide)",
      "language": "python"
    },
    "language_info": {
      "codemirror_mode": {
        "name": "python",
        "version": 3
      },
      "file_extension": ".py",
      "mimetype": "text/x-python",
      "name": "python",
      "nbconvert_exporter": "python",
      "pygments_lexer": "ipython3",
      "version": "3.8"
    }
  },
  "nbformat_minor": 5,
  "nbformat": 4,
  "cells": [
    {
      "id": "297d74df-b2d1-45ea-a718-97969603474a",
      "cell_type": "markdown",
      "source": "# Data Science Tools and Ecosystem",
      "metadata": {}
    },
    {
      "id": "a18c00ec-8587-44d2-80df-adc7ac46f96e",
      "cell_type": "markdown",
      "source": "In this notebook, Data Science Tools and Ecosystem are summarized.",
      "metadata": {}
    },
    {
      "id": "5adcbbba-dc1e-4e06-9f1c-d0a9b0626fab",
      "cell_type": "markdown",
      "source": "**Objectives:**\n- List popular languages for Data Science\n- List commonly used libraries in Data Science\n- Basic data manipulation and analysis techniques",
      "metadata": {}
    },
    {
      "id": "35218dc5-5f50-4828-ac16-3858cde5ade7",
      "cell_type": "markdown",
      "source": "Some of the popular languages that Data Scientists use are:\n1. Python\n2. R\n3. Scala",
      "metadata": {}
    },
    {
      "id": "c507b99d-f90a-4eb7-a420-a914df7e954a",
      "cell_type": "markdown",
      "source": "Some of the commonly used libraries used by Data Scientists include:\n1. NumPy\n2. Pandas\n3. Scikit-learn\n4. TensorFlow\n5. ggplot\n6. caret",
      "metadata": {}
    },
    {
      "id": "5d375735-ed92-47ce-98bb-33bef2ca8f5c",
      "cell_type": "markdown",
      "source": "| Data Science Tools |\n| ------------------ |\n| Jupyter Notebook |\n| RStudio |\n| VSCode |",
      "metadata": {}
    },
    {
      "id": "70e71b2a-ece9-41c1-a6d5-27e4f1128571",
      "cell_type": "markdown",
      "source": "### Below are a few examples of evaluating arithmetic expressions in Python.",
      "metadata": {}
    },
    {
      "id": "a373d4f4-0cc4-45a1-bfe6-95191873e8c0",
      "cell_type": "code",
      "source": "# This a simple arithmetic expression to mutiply then add integers\n(3*4)+5",
      "metadata": {
        "trusted": true
      },
      "outputs": [
        {
          "execution_count": 1,
          "output_type": "execute_result",
          "data": {
            "text/plain": "17"
          },
          "metadata": {}
        }
      ],
      "execution_count": 1
    },
    {
      "id": "3e073056-ccdf-46e9-82e7-12bb1c7daa8d",
      "cell_type": "code",
      "source": "# This will convert 200 minutes to hours by dividing by 60\n200 / 60",
      "metadata": {
        "trusted": true
      },
      "outputs": [
        {
          "execution_count": 3,
          "output_type": "execute_result",
          "data": {
            "text/plain": "3.3333333333333335"
          },
          "metadata": {}
        }
      ],
      "execution_count": 3
    },
    {
      "id": "fd3dd23b-56eb-430a-913f-c75060a024ea",
      "cell_type": "markdown",
      "source": "## Author\nAnastasiia Prokhorova",
      "metadata": {}
    }
  ]
}